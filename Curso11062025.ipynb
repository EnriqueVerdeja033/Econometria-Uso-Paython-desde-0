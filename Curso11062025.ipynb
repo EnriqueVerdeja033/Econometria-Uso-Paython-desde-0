{
  "nbformat": 4,
  "nbformat_minor": 0,
  "metadata": {
    "colab": {
      "provenance": [],
      "authorship_tag": "ABX9TyMfdSViv9Qm4eTFVgqrKbD2",
      "include_colab_link": true
    },
    "kernelspec": {
      "name": "python3",
      "display_name": "Python 3"
    },
    "language_info": {
      "name": "python"
    }
  },
  "cells": [
    {
      "cell_type": "markdown",
      "metadata": {
        "id": "view-in-github",
        "colab_type": "text"
      },
      "source": [
        "<a href=\"https://colab.research.google.com/github/EnriqueVerdeja033/Econometria-Uso-Paython-desde-0/blob/main/Curso11062025.ipynb\" target=\"_parent\"><img src=\"https://colab.research.google.com/assets/colab-badge.svg\" alt=\"Open In Colab\"/></a>"
      ]
    },
    {
      "cell_type": "code",
      "execution_count": null,
      "metadata": {
        "id": "KpWBN_0a3CN0"
      },
      "outputs": [],
      "source": []
    },
    {
      "cell_type": "code",
      "source": [],
      "metadata": {
        "id": "8BFjyIaPO7Kj"
      },
      "execution_count": null,
      "outputs": []
    },
    {
      "cell_type": "code",
      "source": [
        "print(\"Hola Mundo,\\n  Solamente Tú\")\n"
      ],
      "metadata": {
        "colab": {
          "base_uri": "https://localhost:8080/"
        },
        "id": "MqkEtXFa6h3I",
        "outputId": "3b12c978-0878-4e58-cd28-8d5a0142d857"
      },
      "execution_count": null,
      "outputs": [
        {
          "output_type": "stream",
          "name": "stdout",
          "text": [
            "Hola Mundo,\n",
            "  Solamente Tú\n"
          ]
        }
      ]
    },
    {
      "cell_type": "code",
      "source": [
        "Numero=3.3\n",
        "print(Numero)\n",
        "print(type(Numero))\n",
        "\n",
        "\n",
        "\n",
        "Cadena= \"Gamaliel\"\n",
        "print(Cadena)\n",
        "print(type(Cadena))\n",
        "\n",
        "\n",
        "\n",
        "Valor= False\n",
        "print(Valor)\n",
        "print(type(Valor))"
      ],
      "metadata": {
        "colab": {
          "base_uri": "https://localhost:8080/"
        },
        "id": "hx4FsDtH8Xpw",
        "outputId": "1d0becf2-aa5b-4c30-abba-d9d44541c685"
      },
      "execution_count": null,
      "outputs": [
        {
          "output_type": "stream",
          "name": "stdout",
          "text": [
            "3.3\n",
            "<class 'float'>\n",
            "Gamaliel\n",
            "<class 'str'>\n",
            "False\n",
            "<class 'bool'>\n"
          ]
        }
      ]
    },
    {
      "cell_type": "code",
      "source": [
        "a=10\n",
        "b=6\n",
        "c=7\n",
        "d=3\n",
        "e=4\n",
        "suma= a+b+c+d+e\n",
        "resta= a-b\n",
        "division= b/d\n",
        "multiplicacion= c*e\n",
        "operacion= b+c-a*d/e\n",
        "potencia= d ** 4\n",
        "\n",
        "print(a+b)\n",
        "print(\"el valor de la operacion es igual a:\" ,suma)\n",
        "print(\"el valor de la operacion es igual a:\" ,resta)\n",
        "print(\"el valor de la operacion es igual a:\" ,division)\n",
        "print(\"el valor de la operacion es igual a:\" ,multiplicacion) # la multiplicación solo se puede con *\n",
        "print(\"El Valor que da la operacion es igual a:\" ,operacion)\n",
        "print(\"El Valor que da la operacion es igual a:\" ,potencia) # numero base ** a cuanto se eleva\n"
      ],
      "metadata": {
        "colab": {
          "base_uri": "https://localhost:8080/"
        },
        "id": "9VIAvRpg-QNr",
        "outputId": "fffecca2-bc87-4e7e-a1a8-0931e431250c"
      },
      "execution_count": null,
      "outputs": [
        {
          "output_type": "stream",
          "name": "stdout",
          "text": [
            "16\n",
            "el valor de la operacion es igual a: 30\n",
            "el valor de la operacion es igual a: 4\n",
            "el valor de la operacion es igual a: 2.0\n",
            "el valor de la operacion es igual a: 28\n",
            "El Valor que da la operacion es igual a: 5.5\n",
            "El Valor que da la operacion es igual a: 81\n"
          ]
        }
      ]
    },
    {
      "cell_type": "code",
      "source": [
        "#Operadores Atitmeticos\n",
        "# // sirve para que la operación sea en número entero\n",
        "a=2\n",
        "b=4\n",
        "Resultado= a // b\n",
        "print(Resultado)\n",
        "\n",
        "a=10\n",
        "b=3\n",
        "Resultado= a // b\n",
        "print(Resultado)"
      ],
      "metadata": {
        "colab": {
          "base_uri": "https://localhost:8080/"
        },
        "id": "OHmnoMVpCO2m",
        "outputId": "0ae58381-ee34-477d-e3d5-d96549d92a1f"
      },
      "execution_count": null,
      "outputs": [
        {
          "output_type": "stream",
          "name": "stdout",
          "text": [
            "0\n",
            "3\n"
          ]
        }
      ]
    },
    {
      "cell_type": "code",
      "source": [
        "#Modulo \"Residuo de la Division\"\n",
        "#para calcular Modulo se usa \"%\"\n",
        "a=10\n",
        "b=3\n",
        "Resultado2= a%b\n",
        "print(Resultado2)"
      ],
      "metadata": {
        "colab": {
          "base_uri": "https://localhost:8080/"
        },
        "id": "H3-PG4AyD2Dt",
        "outputId": "6fec0fcf-4d78-4216-e0b6-05ba437a9591"
      },
      "execution_count": null,
      "outputs": [
        {
          "output_type": "stream",
          "name": "stdout",
          "text": [
            "1\n"
          ]
        }
      ]
    },
    {
      "cell_type": "code",
      "source": [
        "#Raiz Cuadrada\n",
        "a=25**0.5\n",
        "print(a)\n",
        "b=25**(1/2)\n",
        "print(b)\n",
        "c=16**(1/4)\n",
        "print(c)\n",
        "\n",
        "d= pow(25,1/2)\n",
        "print(d)\n",
        "e= pow(81,0.25)\n",
        "print(e)"
      ],
      "metadata": {
        "colab": {
          "base_uri": "https://localhost:8080/"
        },
        "id": "Tp1lMSVYEx6m",
        "outputId": "4429476f-95ab-47c3-c3d3-e9010f4f787a"
      },
      "execution_count": null,
      "outputs": [
        {
          "output_type": "stream",
          "name": "stdout",
          "text": [
            "5.0\n",
            "5.0\n",
            "2.0\n",
            "5.0\n",
            "3.0\n"
          ]
        }
      ]
    },
    {
      "cell_type": "markdown",
      "source": [],
      "metadata": {
        "id": "wVQYJV2f75tN"
      }
    },
    {
      "cell_type": "markdown",
      "source": [],
      "metadata": {
        "id": "r2Gbk1no8Lmk"
      }
    },
    {
      "cell_type": "code",
      "source": [
        "import numpy as np #Libreria para calcular raices\n",
        "\n",
        "x= np.sqrt(81)\n",
        "print(x)"
      ],
      "metadata": {
        "colab": {
          "base_uri": "https://localhost:8080/"
        },
        "id": "jCaesTXUHcva",
        "outputId": "065c5bdb-3fa4-4970-f863-5972f14173d6"
      },
      "execution_count": null,
      "outputs": [
        {
          "output_type": "stream",
          "name": "stdout",
          "text": [
            "9.0\n"
          ]
        }
      ]
    },
    {
      "cell_type": "code",
      "source": [
        "#Jerarquia de Operaciones\n",
        "\n",
        "#Parentisis, potencias y raices, multiplacaciones y diviiones, sumas y restas\n",
        "\n",
        "R= ((15-13)*(31-26))+18//(1+4*2)\n",
        "print(\"El resultado es:\", R)"
      ],
      "metadata": {
        "colab": {
          "base_uri": "https://localhost:8080/"
        },
        "id": "RPnO8QcZHdC5",
        "outputId": "a5421e84-1428-48f7-8e70-b444ee00834e"
      },
      "execution_count": null,
      "outputs": [
        {
          "output_type": "stream",
          "name": "stdout",
          "text": [
            "El resultado es: 12\n"
          ]
        }
      ]
    },
    {
      "cell_type": "code",
      "source": [
        "#Operadores Racionales\n",
        "Operador= 10 < 20\n",
        "print(Operador)\n"
      ],
      "metadata": {
        "colab": {
          "base_uri": "https://localhost:8080/"
        },
        "id": "hA9VDXX7PAG9",
        "outputId": "e587aff9-8ebb-4ee7-bacd-029dcac1db5b"
      },
      "execution_count": 6,
      "outputs": [
        {
          "output_type": "stream",
          "name": "stdout",
          "text": [
            "True\n"
          ]
        }
      ]
    },
    {
      "cell_type": "code",
      "source": [
        "#Operadores Racionales\n",
        "a= 5\n",
        "c= 10\n",
        "b= 20\n",
        "Op1= ( a + c) < b\n",
        "print(Op1)"
      ],
      "metadata": {
        "colab": {
          "base_uri": "https://localhost:8080/"
        },
        "id": "vSICQINeP4_O",
        "outputId": "c361c5e7-eb6c-455e-b627-e94113388a0b"
      },
      "execution_count": 9,
      "outputs": [
        {
          "output_type": "stream",
          "name": "stdout",
          "text": [
            "True\n"
          ]
        }
      ]
    },
    {
      "cell_type": "code",
      "source": [
        "#Operadores Logicos\n",
        "a=10\n",
        "b=15\n",
        "c=20\n",
        "\n",
        "Op2= ((a>b) and (b<c))\n",
        "print(Op2)\n",
        "\n",
        "Op3= ((a>b) or (b<c))\n",
        "print(Op3)\n",
        "\n",
        "Op4= not((a>b) or (b<c))\n",
        "print(Op4)"
      ],
      "metadata": {
        "colab": {
          "base_uri": "https://localhost:8080/"
        },
        "id": "ocY-xm0dRK3R",
        "outputId": "a702b429-4cf3-4fbb-d83e-22eb43136adf"
      },
      "execution_count": 13,
      "outputs": [
        {
          "output_type": "stream",
          "name": "stdout",
          "text": [
            "False\n",
            "True\n",
            "False\n"
          ]
        }
      ]
    },
    {
      "cell_type": "code",
      "source": [
        "#Operadores de Asignacion\n",
        "\n",
        "a=1\n",
        "a += 3  #se suma, resta, multiplica, etc... los elementos nuevos\n",
        "a -=1\n",
        "a *=3\n",
        "a **=2\n",
        "print(a)\n",
        "\n",
        "b=14\n",
        "b += 6\n",
        "b -= 4\n",
        "b *=2\n",
        "b **=3\n",
        "\n",
        "print(b)"
      ],
      "metadata": {
        "colab": {
          "base_uri": "https://localhost:8080/"
        },
        "id": "KJKbd40uSoeq",
        "outputId": "f89288e7-408f-4861-b9c8-90909cbd36cb"
      },
      "execution_count": 19,
      "outputs": [
        {
          "output_type": "stream",
          "name": "stdout",
          "text": [
            "81\n",
            "32768\n"
          ]
        }
      ]
    },
    {
      "cell_type": "code",
      "source": [
        "#Salida de Datos\n",
        "\n",
        "#Tipo Cadena\n",
        "Nombre= \"Fernanda\"\n",
        "Altura= 1.49\n",
        "\n",
        "print(\"Mi nombre es...\", Nombre)\n",
        "print(\"Mi altura es de\", Altura)\n",
        "\n",
        "#Utilizamos -format-\n",
        "print(\"Mi nombre es... {} y mi altura es de {}\".format(Nombre,Altura))\n",
        "\n",
        "#ESTA ES LA QUE SE USARA EN CURSO, SE USA COMUNMENTE\n",
        "print(f\"Mi nombre es... {Nombre} y mi altura es de {Altura} metros\")\n",
        "\n",
        "print(f\"Hola mi nombre es {Nombre} y mido {Altura} metros\")"
      ],
      "metadata": {
        "colab": {
          "base_uri": "https://localhost:8080/"
        },
        "id": "CzfVOX3lT51X",
        "outputId": "df66c3ea-3707-40d5-ac14-2846e8af4b70"
      },
      "execution_count": 51,
      "outputs": [
        {
          "output_type": "stream",
          "name": "stdout",
          "text": [
            "Mi nombre es... Fernanda\n",
            "Mi altura es de 1.49\n",
            "Mi nombre es... Fernanda y mi altura es de 1.49\n",
            "Mi nombre es... Fernanda y mi altura es de 1.49 metros\n",
            "Hola mi nombre es Fernanda y mido 1.49 metros\n"
          ]
        }
      ]
    },
    {
      "cell_type": "code",
      "source": [
        "#Entrada de Datos\n",
        "\n",
        "#input es una funcion que se usa para pedir datos al usuario (Datos Cadena)\n",
        "\n",
        "Nombre= input(\"Digite su nombre \")\n",
        "print(f\"Que tal, mucho gusto {Nombre}\")"
      ],
      "metadata": {
        "colab": {
          "base_uri": "https://localhost:8080/"
        },
        "id": "q_Y76Dt3Xj2G",
        "outputId": "c4067e61-8628-43bf-ee03-166c4e3d2922"
      },
      "execution_count": 54,
      "outputs": [
        {
          "output_type": "stream",
          "name": "stdout",
          "text": [
            "Digite su nombre Santiago el piripituchi\n",
            "Que tal, mucho gusto Santiago el piripituchi\n"
          ]
        }
      ]
    },
    {
      "cell_type": "code",
      "source": [
        "#Entrada de Datos con Número\n",
        "\n",
        "Numero= int(input(\"Digite su numero: \"))\n",
        "\n",
        "print(f\"Su numero es {Numero *5}\")\n",
        "\n"
      ],
      "metadata": {
        "colab": {
          "base_uri": "https://localhost:8080/"
        },
        "id": "vX76pPZYYoCq",
        "outputId": "3d6696fb-75ed-480e-f753-d62fc4eb653f"
      },
      "execution_count": 37,
      "outputs": [
        {
          "output_type": "stream",
          "name": "stdout",
          "text": [
            "Digite su numero: 5\n",
            "Su numero es 25\n"
          ]
        }
      ]
    },
    {
      "cell_type": "code",
      "source": [
        "#Entrada de Datos con Números Decimales\n",
        "\n",
        "Numero= float(input(\"Digite su numero: \"))\n",
        "\n",
        "print(f\"Su numero es {Numero *3.75}\")"
      ],
      "metadata": {
        "colab": {
          "base_uri": "https://localhost:8080/"
        },
        "id": "xrDgxsCQZ_om",
        "outputId": "8dab90c1-e0de-4850-d3fd-5033530769c7"
      },
      "execution_count": 40,
      "outputs": [
        {
          "output_type": "stream",
          "name": "stdout",
          "text": [
            "Digite su numero: 4.2\n",
            "Su numero es 15.75\n"
          ]
        }
      ]
    },
    {
      "cell_type": "code",
      "source": [
        "#Funciones Integradas\n",
        "\n",
        "#Convertir de Valor Númerico a Cadena\n",
        "Numero= str(33)\n",
        "print(Numero)\n",
        "\n",
        "#Convertir de Valores Enteros a Binarios\n",
        "N= bin(10)\n",
        "print(N)\n",
        "\n",
        "#Calcular Valor Absoluto |a| cambiar valores negativos a positivos\n",
        "\n",
        "n= abs(-5)\n",
        "print(n)\n",
        "\n",
        "#Para Contar los Elementos que hay de un Elemento Tipo Cadena\n",
        "nn= len(\"Gama\")\n",
        "print(nn)"
      ],
      "metadata": {
        "colab": {
          "base_uri": "https://localhost:8080/"
        },
        "id": "i_m1ZwaXaUig",
        "outputId": "d1641ffc-d5cd-4768-9df4-655de8b0f479"
      },
      "execution_count": 45,
      "outputs": [
        {
          "output_type": "stream",
          "name": "stdout",
          "text": [
            "33\n",
            "0b1010\n",
            "5\n",
            "4\n"
          ]
        }
      ]
    },
    {
      "cell_type": "code",
      "source": [
        "#Ejercicios\n",
        "# (n(n+1))/2\n",
        "\n",
        "#Programar para sumas los primeros N numeros que quiere contar\n",
        "# 1\n",
        "n= int(input(\"Digite el Número Natural que quiere sumar \"))\n",
        "# 2\n",
        "suma= n * (n+1) // 2\n",
        "#3\n",
        "print(f\"La suma de los primeros {n} números es {suma}\")\n"
      ],
      "metadata": {
        "colab": {
          "base_uri": "https://localhost:8080/"
        },
        "id": "XPIwQHE1ciKl",
        "outputId": "7bfd7172-5dc3-4f0d-f962-f01ae6688fce"
      },
      "execution_count": 50,
      "outputs": [
        {
          "output_type": "stream",
          "name": "stdout",
          "text": [
            "Digite el Número Natural que quiere sumar 100\n",
            "La suma de los primeros 100 números es 5050\n"
          ]
        }
      ]
    }
  ]
}