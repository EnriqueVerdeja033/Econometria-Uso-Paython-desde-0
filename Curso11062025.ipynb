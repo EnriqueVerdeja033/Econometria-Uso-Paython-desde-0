{
  "nbformat": 4,
  "nbformat_minor": 0,
  "metadata": {
    "colab": {
      "provenance": [],
      "authorship_tag": "ABX9TyMeA60Cp99rlZlVMCzuJbxU",
      "include_colab_link": true
    },
    "kernelspec": {
      "name": "python3",
      "display_name": "Python 3"
    },
    "language_info": {
      "name": "python"
    }
  },
  "cells": [
    {
      "cell_type": "markdown",
      "metadata": {
        "id": "view-in-github",
        "colab_type": "text"
      },
      "source": [
        "<a href=\"https://colab.research.google.com/github/EnriqueVerdeja033/Econometria-Uso-Paython-desde-0/blob/main/Curso11062025.ipynb\" target=\"_parent\"><img src=\"https://colab.research.google.com/assets/colab-badge.svg\" alt=\"Open In Colab\"/></a>"
      ]
    },
    {
      "cell_type": "code",
      "source": [
        "Nombre= input(\"¿Cual es tú Nombre? \")\n",
        "\n",
        "print (f\"Bienvendio {Nombre}, este es un curso de inducción para el uso de Python\")\n",
        "\n"
      ],
      "metadata": {
        "id": "2w-qDGkVibS-",
        "outputId": "38237c28-c1fd-432c-ae89-194c8f9169d4",
        "colab": {
          "base_uri": "https://localhost:8080/"
        }
      },
      "execution_count": 62,
      "outputs": [
        {
          "output_type": "stream",
          "name": "stdout",
          "text": [
            "¿Cual es tú Nombre? Gamaliel\n",
            "Bienvendio Gamaliel, este es un curso de inducción para el uso de Python\n"
          ]
        }
      ]
    },
    {
      "cell_type": "code",
      "source": [
        "print(\"Hola Mundo,\\n  Solamente Tú\")\n"
      ],
      "metadata": {
        "colab": {
          "base_uri": "https://localhost:8080/"
        },
        "id": "MqkEtXFa6h3I",
        "outputId": "3b12c978-0878-4e58-cd28-8d5a0142d857"
      },
      "execution_count": null,
      "outputs": [
        {
          "output_type": "stream",
          "name": "stdout",
          "text": [
            "Hola Mundo,\n",
            "  Solamente Tú\n"
          ]
        }
      ]
    },
    {
      "cell_type": "code",
      "source": [
        "Numero=3.3\n",
        "print(Numero)\n",
        "print(type(Numero))\n",
        "\n",
        "\n",
        "\n",
        "Cadena= \"Gamaliel\"\n",
        "print(Cadena)\n",
        "print(type(Cadena))\n",
        "\n",
        "\n",
        "\n",
        "Valor= False\n",
        "print(Valor)\n",
        "print(type(Valor))"
      ],
      "metadata": {
        "colab": {
          "base_uri": "https://localhost:8080/"
        },
        "id": "hx4FsDtH8Xpw",
        "outputId": "1d0becf2-aa5b-4c30-abba-d9d44541c685"
      },
      "execution_count": null,
      "outputs": [
        {
          "output_type": "stream",
          "name": "stdout",
          "text": [
            "3.3\n",
            "<class 'float'>\n",
            "Gamaliel\n",
            "<class 'str'>\n",
            "False\n",
            "<class 'bool'>\n"
          ]
        }
      ]
    },
    {
      "cell_type": "code",
      "source": [
        "a=10\n",
        "b=6\n",
        "c=7\n",
        "d=3\n",
        "e=4\n",
        "suma= a+b+c+d+e\n",
        "resta= a-b\n",
        "division= b/d\n",
        "multiplicacion= c*e\n",
        "operacion= b+c-a*d/e\n",
        "potencia= d ** 4\n",
        "\n",
        "print(a+b)\n",
        "print(\"el valor de la operacion es igual a:\" ,suma)\n",
        "print(\"el valor de la operacion es igual a:\" ,resta)\n",
        "print(\"el valor de la operacion es igual a:\" ,division)\n",
        "print(\"el valor de la operacion es igual a:\" ,multiplicacion) # la multiplicación solo se puede con *\n",
        "print(\"El Valor que da la operacion es igual a:\" ,operacion)\n",
        "print(\"El Valor que da la operacion es igual a:\" ,potencia) # numero base ** a cuanto se eleva\n"
      ],
      "metadata": {
        "colab": {
          "base_uri": "https://localhost:8080/"
        },
        "id": "9VIAvRpg-QNr",
        "outputId": "fffecca2-bc87-4e7e-a1a8-0931e431250c"
      },
      "execution_count": null,
      "outputs": [
        {
          "output_type": "stream",
          "name": "stdout",
          "text": [
            "16\n",
            "el valor de la operacion es igual a: 30\n",
            "el valor de la operacion es igual a: 4\n",
            "el valor de la operacion es igual a: 2.0\n",
            "el valor de la operacion es igual a: 28\n",
            "El Valor que da la operacion es igual a: 5.5\n",
            "El Valor que da la operacion es igual a: 81\n"
          ]
        }
      ]
    },
    {
      "cell_type": "code",
      "source": [
        "#Operadores Atitmeticos\n",
        "# // sirve para que la operación sea en número entero\n",
        "a=2\n",
        "b=4\n",
        "Resultado= a // b\n",
        "print(Resultado)\n",
        "\n",
        "a=10\n",
        "b=3\n",
        "Resultado= a // b\n",
        "print(Resultado)"
      ],
      "metadata": {
        "colab": {
          "base_uri": "https://localhost:8080/"
        },
        "id": "OHmnoMVpCO2m",
        "outputId": "0ae58381-ee34-477d-e3d5-d96549d92a1f"
      },
      "execution_count": null,
      "outputs": [
        {
          "output_type": "stream",
          "name": "stdout",
          "text": [
            "0\n",
            "3\n"
          ]
        }
      ]
    },
    {
      "cell_type": "code",
      "source": [
        "#Modulo \"Residuo de la Division\"\n",
        "#para calcular Modulo se usa \"%\"\n",
        "a=10\n",
        "b=3\n",
        "Resultado2= a%b\n",
        "print(Resultado2)"
      ],
      "metadata": {
        "colab": {
          "base_uri": "https://localhost:8080/"
        },
        "id": "H3-PG4AyD2Dt",
        "outputId": "6fec0fcf-4d78-4216-e0b6-05ba437a9591"
      },
      "execution_count": null,
      "outputs": [
        {
          "output_type": "stream",
          "name": "stdout",
          "text": [
            "1\n"
          ]
        }
      ]
    },
    {
      "cell_type": "code",
      "source": [
        "#Raiz Cuadrada\n",
        "a=25**0.5\n",
        "print(a)\n",
        "b=25**(1/2)\n",
        "print(b)\n",
        "c=16**(1/4)\n",
        "print(c)\n",
        "\n",
        "d= pow(25,1/2)\n",
        "print(d)\n",
        "e= pow(81,0.25)\n",
        "print(e)"
      ],
      "metadata": {
        "colab": {
          "base_uri": "https://localhost:8080/"
        },
        "id": "Tp1lMSVYEx6m",
        "outputId": "4429476f-95ab-47c3-c3d3-e9010f4f787a"
      },
      "execution_count": null,
      "outputs": [
        {
          "output_type": "stream",
          "name": "stdout",
          "text": [
            "5.0\n",
            "5.0\n",
            "2.0\n",
            "5.0\n",
            "3.0\n"
          ]
        }
      ]
    },
    {
      "cell_type": "code",
      "source": [
        "import numpy as np #Libreria para calcular raices\n",
        "\n",
        "x= np.sqrt(81)\n",
        "print(x)"
      ],
      "metadata": {
        "colab": {
          "base_uri": "https://localhost:8080/"
        },
        "id": "jCaesTXUHcva",
        "outputId": "065c5bdb-3fa4-4970-f863-5972f14173d6"
      },
      "execution_count": null,
      "outputs": [
        {
          "output_type": "stream",
          "name": "stdout",
          "text": [
            "9.0\n"
          ]
        }
      ]
    },
    {
      "cell_type": "code",
      "source": [
        "#Jerarquia de Operaciones\n",
        "\n",
        "#Parentisis, potencias y raices, multiplacaciones y diviiones, sumas y restas\n",
        "\n",
        "R= ((15-13)*(31-26))+18//(1+4*2)\n",
        "print(\"El resultado es:\", R)"
      ],
      "metadata": {
        "colab": {
          "base_uri": "https://localhost:8080/"
        },
        "id": "RPnO8QcZHdC5",
        "outputId": "a5421e84-1428-48f7-8e70-b444ee00834e"
      },
      "execution_count": null,
      "outputs": [
        {
          "output_type": "stream",
          "name": "stdout",
          "text": [
            "El resultado es: 12\n"
          ]
        }
      ]
    },
    {
      "cell_type": "markdown",
      "source": [
        "![IMG-20250612-WA0002.jpg](data:image/jpeg;base64,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)"
      ],
      "metadata": {
        "id": "HjAp5_2PiCnv"
      }
    },
    {
      "cell_type": "markdown",
      "source": [
        "![IMG-20250613-WA0031.jpg](data:image/jpeg;base64,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)"
      ],
      "metadata": {
        "id": "pxs_fitehw6M"
      }
    },
    {
      "cell_type": "code",
      "source": [
        "#Operadores Racionales\n",
        "Operador= 10 < 20\n",
        "print(Operador)\n"
      ],
      "metadata": {
        "colab": {
          "base_uri": "https://localhost:8080/"
        },
        "id": "hA9VDXX7PAG9",
        "outputId": "e587aff9-8ebb-4ee7-bacd-029dcac1db5b"
      },
      "execution_count": 6,
      "outputs": [
        {
          "output_type": "stream",
          "name": "stdout",
          "text": [
            "True\n"
          ]
        }
      ]
    },
    {
      "cell_type": "code",
      "source": [
        "#Operadores Racionales\n",
        "a= 5\n",
        "c= 10\n",
        "b= 20\n",
        "Op1= ( a + c) < b\n",
        "print(Op1)"
      ],
      "metadata": {
        "colab": {
          "base_uri": "https://localhost:8080/"
        },
        "id": "vSICQINeP4_O",
        "outputId": "c361c5e7-eb6c-455e-b627-e94113388a0b"
      },
      "execution_count": 9,
      "outputs": [
        {
          "output_type": "stream",
          "name": "stdout",
          "text": [
            "True\n"
          ]
        }
      ]
    },
    {
      "cell_type": "code",
      "source": [
        "#Operadores Logicos\n",
        "a=10\n",
        "b=15\n",
        "c=20\n",
        "\n",
        "Op2= ((a>b) and (b<c))\n",
        "print(Op2)\n",
        "\n",
        "Op3= ((a>b) or (b<c))\n",
        "print(Op3)\n",
        "\n",
        "Op4= not((a>b) or (b<c))\n",
        "print(Op4)"
      ],
      "metadata": {
        "colab": {
          "base_uri": "https://localhost:8080/"
        },
        "id": "ocY-xm0dRK3R",
        "outputId": "a702b429-4cf3-4fbb-d83e-22eb43136adf"
      },
      "execution_count": 13,
      "outputs": [
        {
          "output_type": "stream",
          "name": "stdout",
          "text": [
            "False\n",
            "True\n",
            "False\n"
          ]
        }
      ]
    },
    {
      "cell_type": "code",
      "source": [
        "#Operadores de Asignacion\n",
        "\n",
        "a=1\n",
        "a += 3  #se suma, resta, multiplica, etc... los elementos nuevos\n",
        "a -=1\n",
        "a *=3\n",
        "a **=2\n",
        "print(a)\n",
        "\n",
        "b=14\n",
        "b += 6\n",
        "b -= 4\n",
        "b *=2\n",
        "b **=3\n",
        "\n",
        "print(b)"
      ],
      "metadata": {
        "colab": {
          "base_uri": "https://localhost:8080/"
        },
        "id": "KJKbd40uSoeq",
        "outputId": "f89288e7-408f-4861-b9c8-90909cbd36cb"
      },
      "execution_count": 19,
      "outputs": [
        {
          "output_type": "stream",
          "name": "stdout",
          "text": [
            "81\n",
            "32768\n"
          ]
        }
      ]
    },
    {
      "cell_type": "code",
      "source": [
        "#Salida de Datos\n",
        "\n",
        "#Tipo Cadena\n",
        "Nombre= \"Fernanda\"\n",
        "Altura= 1.49\n",
        "\n",
        "print(\"Mi nombre es...\", Nombre)\n",
        "print(\"Mi altura es de\", Altura)\n",
        "\n",
        "#Utilizamos -format-\n",
        "print(\"Mi nombre es... {} y mi altura es de {}\".format(Nombre,Altura))\n",
        "\n",
        "#ESTA ES LA QUE SE USARA EN CURSO, SE USA COMUNMENTE\n",
        "print(f\"Mi nombre es... {Nombre} y mi altura es de {Altura} metros\")\n",
        "\n",
        "print(f\"Hola mi nombre es {Nombre} y mido {Altura} metros\")"
      ],
      "metadata": {
        "colab": {
          "base_uri": "https://localhost:8080/"
        },
        "id": "CzfVOX3lT51X",
        "outputId": "df66c3ea-3707-40d5-ac14-2846e8af4b70"
      },
      "execution_count": 51,
      "outputs": [
        {
          "output_type": "stream",
          "name": "stdout",
          "text": [
            "Mi nombre es... Fernanda\n",
            "Mi altura es de 1.49\n",
            "Mi nombre es... Fernanda y mi altura es de 1.49\n",
            "Mi nombre es... Fernanda y mi altura es de 1.49 metros\n",
            "Hola mi nombre es Fernanda y mido 1.49 metros\n"
          ]
        }
      ]
    },
    {
      "cell_type": "code",
      "source": [
        "#Entrada de Datos\n",
        "\n",
        "#input es una funcion que se usa para pedir datos al usuario (Datos Cadena)\n",
        "\n",
        "Nombre= input(\"Digite su nombre \")\n",
        "print(f\"Que tal, mucho gusto {Nombre}\")"
      ],
      "metadata": {
        "colab": {
          "base_uri": "https://localhost:8080/"
        },
        "id": "q_Y76Dt3Xj2G",
        "outputId": "c4067e61-8628-43bf-ee03-166c4e3d2922"
      },
      "execution_count": 54,
      "outputs": [
        {
          "output_type": "stream",
          "name": "stdout",
          "text": [
            "Digite su nombre Santiago el piripituchi\n",
            "Que tal, mucho gusto Santiago el piripituchi\n"
          ]
        }
      ]
    },
    {
      "cell_type": "code",
      "source": [
        "#Entrada de Datos con Número\n",
        "\n",
        "Numero= int(input(\"Digite su numero: \"))\n",
        "\n",
        "print(f\"Su numero es {Numero *5}\")\n",
        "\n"
      ],
      "metadata": {
        "colab": {
          "base_uri": "https://localhost:8080/"
        },
        "id": "vX76pPZYYoCq",
        "outputId": "3d6696fb-75ed-480e-f753-d62fc4eb653f"
      },
      "execution_count": 37,
      "outputs": [
        {
          "output_type": "stream",
          "name": "stdout",
          "text": [
            "Digite su numero: 5\n",
            "Su numero es 25\n"
          ]
        }
      ]
    },
    {
      "cell_type": "code",
      "source": [
        "#Entrada de Datos con Números Decimales\n",
        "\n",
        "Numero= float(input(\"Digite su numero: \"))\n",
        "\n",
        "print(f\"Su numero es {Numero *3.75}\")"
      ],
      "metadata": {
        "colab": {
          "base_uri": "https://localhost:8080/"
        },
        "id": "xrDgxsCQZ_om",
        "outputId": "8dab90c1-e0de-4850-d3fd-5033530769c7"
      },
      "execution_count": 40,
      "outputs": [
        {
          "output_type": "stream",
          "name": "stdout",
          "text": [
            "Digite su numero: 4.2\n",
            "Su numero es 15.75\n"
          ]
        }
      ]
    },
    {
      "cell_type": "code",
      "source": [
        "#Funciones Integradas\n",
        "\n",
        "#Convertir de Valor Númerico a Cadena\n",
        "Numero= str(33)\n",
        "print(Numero)\n",
        "\n",
        "#Convertir de Valores Enteros a Binarios\n",
        "N= bin(10)\n",
        "print(N)\n",
        "\n",
        "#Calcular Valor Absoluto |a| cambiar valores negativos a positivos\n",
        "\n",
        "n= abs(-5)\n",
        "print(n)\n",
        "\n",
        "#Para Contar los Elementos que hay de un Elemento Tipo Cadena\n",
        "nn= len(\"Gama\")\n",
        "print(nn)"
      ],
      "metadata": {
        "colab": {
          "base_uri": "https://localhost:8080/"
        },
        "id": "i_m1ZwaXaUig",
        "outputId": "d1641ffc-d5cd-4768-9df4-655de8b0f479"
      },
      "execution_count": 45,
      "outputs": [
        {
          "output_type": "stream",
          "name": "stdout",
          "text": [
            "33\n",
            "0b1010\n",
            "5\n",
            "4\n"
          ]
        }
      ]
    },
    {
      "cell_type": "code",
      "source": [
        "#Ejercicios\n",
        "# (n(n+1))/2\n",
        "\n",
        "#Programar para sumas los primeros N numeros que quiere contar\n",
        "# 1\n",
        "n= int(input(\"Digite el Número Natural que quiere sumar \"))\n",
        "# 2\n",
        "suma= n * (n+1) // 2\n",
        "#3\n",
        "print(f\"La suma de los primeros {n} números es {suma}\")\n"
      ],
      "metadata": {
        "colab": {
          "base_uri": "https://localhost:8080/"
        },
        "id": "XPIwQHE1ciKl",
        "outputId": "7bfd7172-5dc3-4f0d-f962-f01ae6688fce"
      },
      "execution_count": 50,
      "outputs": [
        {
          "output_type": "stream",
          "name": "stdout",
          "text": [
            "Digite el Número Natural que quiere sumar 100\n",
            "La suma de los primeros 100 números es 5050\n"
          ]
        }
      ]
    }
  ]
}