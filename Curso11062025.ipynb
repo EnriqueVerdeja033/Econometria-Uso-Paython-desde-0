{
  "nbformat": 4,
  "nbformat_minor": 0,
  "metadata": {
    "colab": {
      "provenance": [],
      "authorship_tag": "ABX9TyPMxpwPmPabYYrFao0CwpC0",
      "include_colab_link": true
    },
    "kernelspec": {
      "name": "python3",
      "display_name": "Python 3"
    },
    "language_info": {
      "name": "python"
    }
  },
  "cells": [
    {
      "cell_type": "markdown",
      "metadata": {
        "id": "view-in-github",
        "colab_type": "text"
      },
      "source": [
        "<a href=\"https://colab.research.google.com/github/EnriqueVerdeja033/Econometria-Uso-Paython-desde-0/blob/main/Curso11062025.ipynb\" target=\"_parent\"><img src=\"https://colab.research.google.com/assets/colab-badge.svg\" alt=\"Open In Colab\"/></a>"
      ]
    },
    {
      "cell_type": "code",
      "execution_count": null,
      "metadata": {
        "id": "KpWBN_0a3CN0"
      },
      "outputs": [],
      "source": []
    },
    {
      "cell_type": "code",
      "source": [
        "print(\"Hola Mundo,\\n  Solamente Tú\")\n"
      ],
      "metadata": {
        "colab": {
          "base_uri": "https://localhost:8080/"
        },
        "id": "MqkEtXFa6h3I",
        "outputId": "3b12c978-0878-4e58-cd28-8d5a0142d857"
      },
      "execution_count": null,
      "outputs": [
        {
          "output_type": "stream",
          "name": "stdout",
          "text": [
            "Hola Mundo,\n",
            "  Solamente Tú\n"
          ]
        }
      ]
    },
    {
      "cell_type": "code",
      "source": [
        "Numero=3.3\n",
        "print(Numero)\n",
        "print(type(Numero))\n",
        "\n",
        "\n",
        "\n",
        "Cadena= \"Gamaliel\"\n",
        "print(Cadena)\n",
        "print(type(Cadena))\n",
        "\n",
        "\n",
        "\n",
        "Valor= False\n",
        "print(Valor)\n",
        "print(type(Valor))"
      ],
      "metadata": {
        "colab": {
          "base_uri": "https://localhost:8080/"
        },
        "id": "hx4FsDtH8Xpw",
        "outputId": "1d0becf2-aa5b-4c30-abba-d9d44541c685"
      },
      "execution_count": null,
      "outputs": [
        {
          "output_type": "stream",
          "name": "stdout",
          "text": [
            "3.3\n",
            "<class 'float'>\n",
            "Gamaliel\n",
            "<class 'str'>\n",
            "False\n",
            "<class 'bool'>\n"
          ]
        }
      ]
    },
    {
      "cell_type": "code",
      "source": [
        "a=10\n",
        "b=6\n",
        "c=7\n",
        "d=3\n",
        "e=4\n",
        "suma= a+b+c+d+e\n",
        "resta= a-b\n",
        "division= b/d\n",
        "multiplicacion= c*e\n",
        "operacion= b+c-a*d/e\n",
        "potencia= d ** 4\n",
        "\n",
        "print(a+b)\n",
        "print(\"el valor de la operacion es igual a:\" ,suma)\n",
        "print(\"el valor de la operacion es igual a:\" ,resta)\n",
        "print(\"el valor de la operacion es igual a:\" ,division)\n",
        "print(\"el valor de la operacion es igual a:\" ,multiplicacion) # la multiplicación solo se puede con *\n",
        "print(\"El Valor que da la operacion es igual a:\" ,operacion)\n",
        "print(\"El Valor que da la operacion es igual a:\" ,potencia) # numero base ** a cuanto se eleva\n"
      ],
      "metadata": {
        "colab": {
          "base_uri": "https://localhost:8080/"
        },
        "id": "9VIAvRpg-QNr",
        "outputId": "fffecca2-bc87-4e7e-a1a8-0931e431250c"
      },
      "execution_count": null,
      "outputs": [
        {
          "output_type": "stream",
          "name": "stdout",
          "text": [
            "16\n",
            "el valor de la operacion es igual a: 30\n",
            "el valor de la operacion es igual a: 4\n",
            "el valor de la operacion es igual a: 2.0\n",
            "el valor de la operacion es igual a: 28\n",
            "El Valor que da la operacion es igual a: 5.5\n",
            "El Valor que da la operacion es igual a: 81\n"
          ]
        }
      ]
    },
    {
      "cell_type": "code",
      "source": [
        "#Operadores Atitmeticos\n",
        "# // sirve para que la operación sea en número entero\n",
        "a=2\n",
        "b=4\n",
        "Resultado= a // b\n",
        "print(Resultado)\n",
        "\n",
        "a=10\n",
        "b=3\n",
        "Resultado= a // b\n",
        "print(Resultado)"
      ],
      "metadata": {
        "colab": {
          "base_uri": "https://localhost:8080/"
        },
        "id": "OHmnoMVpCO2m",
        "outputId": "0ae58381-ee34-477d-e3d5-d96549d92a1f"
      },
      "execution_count": null,
      "outputs": [
        {
          "output_type": "stream",
          "name": "stdout",
          "text": [
            "0\n",
            "3\n"
          ]
        }
      ]
    },
    {
      "cell_type": "code",
      "source": [
        "#Modulo \"Residuo de la Division\"\n",
        "#para calcular Modulo se usa \"%\"\n",
        "a=10\n",
        "b=3\n",
        "Resultado2= a%b\n",
        "print(Resultado2)"
      ],
      "metadata": {
        "colab": {
          "base_uri": "https://localhost:8080/"
        },
        "id": "H3-PG4AyD2Dt",
        "outputId": "6fec0fcf-4d78-4216-e0b6-05ba437a9591"
      },
      "execution_count": null,
      "outputs": [
        {
          "output_type": "stream",
          "name": "stdout",
          "text": [
            "1\n"
          ]
        }
      ]
    },
    {
      "cell_type": "code",
      "source": [
        "#Raiz Cuadrada\n",
        "a=25**0.5\n",
        "print(a)\n",
        "b=25**(1/2)\n",
        "print(b)\n",
        "c=16**(1/4)\n",
        "print(c)\n",
        "\n",
        "d= pow(25,1/2)\n",
        "print(d)\n",
        "e= pow(81,0.25)\n",
        "print(e)"
      ],
      "metadata": {
        "colab": {
          "base_uri": "https://localhost:8080/"
        },
        "id": "Tp1lMSVYEx6m",
        "outputId": "4429476f-95ab-47c3-c3d3-e9010f4f787a"
      },
      "execution_count": null,
      "outputs": [
        {
          "output_type": "stream",
          "name": "stdout",
          "text": [
            "5.0\n",
            "5.0\n",
            "2.0\n",
            "5.0\n",
            "3.0\n"
          ]
        }
      ]
    },
    {
      "cell_type": "markdown",
      "source": [],
      "metadata": {
        "id": "wVQYJV2f75tN"
      }
    },
    {
      "cell_type": "markdown",
      "source": [],
      "metadata": {
        "id": "r2Gbk1no8Lmk"
      }
    },
    {
      "cell_type": "code",
      "source": [
        "import numpy as np #Libreria para calcular raices\n",
        "\n",
        "x= np.sqrt(81)\n",
        "print(x)"
      ],
      "metadata": {
        "colab": {
          "base_uri": "https://localhost:8080/"
        },
        "id": "jCaesTXUHcva",
        "outputId": "065c5bdb-3fa4-4970-f863-5972f14173d6"
      },
      "execution_count": null,
      "outputs": [
        {
          "output_type": "stream",
          "name": "stdout",
          "text": [
            "9.0\n"
          ]
        }
      ]
    },
    {
      "cell_type": "code",
      "source": [
        "#Jerarquia de Operaciones\n",
        "\n",
        "#Parentisis, potencias y raices, multiplacaciones y diviiones, sumas y restas\n",
        "\n",
        "R= ((15-13)*(31-26))+18//(1+4*2)\n",
        "print(\"El resultado es:\", R)"
      ],
      "metadata": {
        "colab": {
          "base_uri": "https://localhost:8080/"
        },
        "id": "RPnO8QcZHdC5",
        "outputId": "a5421e84-1428-48f7-8e70-b444ee00834e"
      },
      "execution_count": null,
      "outputs": [
        {
          "output_type": "stream",
          "name": "stdout",
          "text": [
            "El resultado es: 12\n"
          ]
        }
      ]
    }
  ]
}